{
 "cells": [
  {
   "cell_type": "markdown",
   "id": "37eaad8e",
   "metadata": {},
   "source": [
    "# Furniture Product Extraction\n",
    "This notebook demonstrates the process of extracting product names from furniture websites using the `FurnitureProductExtractor` class."
   ]
  },
  {
   "cell_type": "code",
   "execution_count": null,
   "id": "361dafe7",
   "metadata": {},
   "outputs": [],
   "source": [
    "# Import necessary libraries\n",
    "import os\n",
    "from include.FurnitureProductExtractor import FurnitureProductExtractor"
   ]
  },
  {
   "cell_type": "code",
   "execution_count": null,
   "id": "38c4aed8",
   "metadata": {},
   "outputs": [],
   "source": [
    "# Initialize the FurnitureProductExtractor\n",
    "extractor = FurnitureProductExtractor()"
   ]
  },
  {
   "cell_type": "code",
   "execution_count": null,
   "id": "204754e7",
   "metadata": {},
   "outputs": [],
   "source": []
  }
 ],
 "metadata": {
  "kernelspec": {
   "display_name": ".venv",
   "language": "python",
   "name": "python3"
  },
  "language_info": {
   "codemirror_mode": {
    "name": "ipython",
    "version": 3
   },
   "file_extension": ".py",
   "mimetype": "text/x-python",
   "name": "python",
   "nbconvert_exporter": "python",
   "pygments_lexer": "ipython3",
   "version": "3.10.5"
  }
 },
 "nbformat": 4,
 "nbformat_minor": 5
}
